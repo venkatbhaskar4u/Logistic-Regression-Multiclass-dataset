{
 "cells": [
  {
   "cell_type": "code",
   "execution_count": 23,
   "id": "76e95666",
   "metadata": {},
   "outputs": [],
   "source": [
    "import numpy as np\n",
    "import pandas as pd\n",
    "import sklearn\n",
    "import matplotlib.pyplot as plt\n",
    "import random\n",
    "import scipy.io as sc\n",
    "from sklearn.svm import SVC\n",
    "from sklearn.linear_model import LogisticRegression\n",
    "from sklearn.multiclass import OneVsRestClassifier\n",
    "from sklearn.metrics import confusion_matrix"
   ]
  },
  {
   "cell_type": "code",
   "execution_count": 2,
   "id": "c797ff32",
   "metadata": {},
   "outputs": [
    {
     "data": {
      "text/plain": [
       "'C:\\\\Users\\\\Venkat Bhaskar'"
      ]
     },
     "execution_count": 2,
     "metadata": {},
     "output_type": "execute_result"
    }
   ],
   "source": [
    "%pwd"
   ]
  },
  {
   "cell_type": "code",
   "execution_count": 3,
   "id": "829b71d5",
   "metadata": {},
   "outputs": [
    {
     "name": "stdout",
     "output_type": "stream",
     "text": [
      "C:\\Users\\Venkat Bhaskar\\Downloads\\DM\\Assignment 4\\Assignment 4\\Data for Assignment 4\\Data for Problem 1\n"
     ]
    }
   ],
   "source": [
    "cd C:\\\\Users\\\\Venkat Bhaskar\\\\Downloads\\\\DM\\\\Assignment 4\\\\Assignment 4\\\\Data for Assignment 4\\\\Data for Problem 1\\\\"
   ]
  },
  {
   "cell_type": "code",
   "execution_count": 4,
   "id": "07422aa7",
   "metadata": {},
   "outputs": [],
   "source": [
    "training_X=sc.loadmat('X_train.mat')\n",
    "testing_X=sc.loadmat('X_test.mat')\n",
    "training_y=sc.loadmat('y_train.mat')\n",
    "testing_y=sc.loadmat('y_test.mat')"
   ]
  },
  {
   "cell_type": "code",
   "execution_count": 5,
   "id": "a6e88f54",
   "metadata": {},
   "outputs": [],
   "source": [
    "#Loading into DataFrames\n",
    "trainX=training_X['X_train']\n",
    "X_train=pd.DataFrame(trainX)\n",
    "testX=testing_X['X_test']\n",
    "X_test=pd.DataFrame(testX)\n",
    "trainy=training_y['y_train']\n",
    "y_train=pd.DataFrame(trainy)\n",
    "testy=testing_y['y_test']\n",
    "y_test=pd.DataFrame(testy)"
   ]
  },
  {
   "cell_type": "code",
   "execution_count": 6,
   "id": "0fd7d12f",
   "metadata": {},
   "outputs": [
    {
     "data": {
      "text/html": [
       "<div>\n",
       "<style scoped>\n",
       "    .dataframe tbody tr th:only-of-type {\n",
       "        vertical-align: middle;\n",
       "    }\n",
       "\n",
       "    .dataframe tbody tr th {\n",
       "        vertical-align: top;\n",
       "    }\n",
       "\n",
       "    .dataframe thead th {\n",
       "        text-align: right;\n",
       "    }\n",
       "</style>\n",
       "<table border=\"1\" class=\"dataframe\">\n",
       "  <thead>\n",
       "    <tr style=\"text-align: right;\">\n",
       "      <th></th>\n",
       "      <th>0</th>\n",
       "      <th>1</th>\n",
       "      <th>2</th>\n",
       "      <th>3</th>\n",
       "      <th>4</th>\n",
       "      <th>5</th>\n",
       "      <th>6</th>\n",
       "      <th>7</th>\n",
       "      <th>8</th>\n",
       "      <th>9</th>\n",
       "      <th>...</th>\n",
       "      <th>284</th>\n",
       "      <th>285</th>\n",
       "      <th>286</th>\n",
       "      <th>287</th>\n",
       "      <th>288</th>\n",
       "      <th>289</th>\n",
       "      <th>290</th>\n",
       "      <th>291</th>\n",
       "      <th>292</th>\n",
       "      <th>293</th>\n",
       "    </tr>\n",
       "  </thead>\n",
       "  <tbody>\n",
       "    <tr>\n",
       "      <th>0</th>\n",
       "      <td>0.704118</td>\n",
       "      <td>0.782665</td>\n",
       "      <td>0.826754</td>\n",
       "      <td>0.850307</td>\n",
       "      <td>0.862206</td>\n",
       "      <td>0.848290</td>\n",
       "      <td>0.791599</td>\n",
       "      <td>0.713442</td>\n",
       "      <td>0.782930</td>\n",
       "      <td>0.820271</td>\n",
       "      <td>...</td>\n",
       "      <td>0.005394</td>\n",
       "      <td>0.006934</td>\n",
       "      <td>0.005102</td>\n",
       "      <td>0.132826</td>\n",
       "      <td>0.113477</td>\n",
       "      <td>0.055774</td>\n",
       "      <td>0.036591</td>\n",
       "      <td>0.004899</td>\n",
       "      <td>0.003292</td>\n",
       "      <td>0.003425</td>\n",
       "    </tr>\n",
       "    <tr>\n",
       "      <th>1</th>\n",
       "      <td>0.643679</td>\n",
       "      <td>0.652197</td>\n",
       "      <td>0.654330</td>\n",
       "      <td>0.640379</td>\n",
       "      <td>0.650713</td>\n",
       "      <td>0.641521</td>\n",
       "      <td>0.621050</td>\n",
       "      <td>0.660025</td>\n",
       "      <td>0.668678</td>\n",
       "      <td>0.511797</td>\n",
       "      <td>...</td>\n",
       "      <td>0.279093</td>\n",
       "      <td>0.269565</td>\n",
       "      <td>0.317801</td>\n",
       "      <td>0.317868</td>\n",
       "      <td>0.238296</td>\n",
       "      <td>0.218125</td>\n",
       "      <td>0.234468</td>\n",
       "      <td>0.321567</td>\n",
       "      <td>0.262156</td>\n",
       "      <td>0.356931</td>\n",
       "    </tr>\n",
       "    <tr>\n",
       "      <th>2</th>\n",
       "      <td>0.638064</td>\n",
       "      <td>0.716210</td>\n",
       "      <td>0.702273</td>\n",
       "      <td>0.688614</td>\n",
       "      <td>0.706903</td>\n",
       "      <td>0.614386</td>\n",
       "      <td>0.637293</td>\n",
       "      <td>0.710090</td>\n",
       "      <td>0.655733</td>\n",
       "      <td>0.730836</td>\n",
       "      <td>...</td>\n",
       "      <td>0.226770</td>\n",
       "      <td>0.124101</td>\n",
       "      <td>0.312273</td>\n",
       "      <td>0.149486</td>\n",
       "      <td>0.149307</td>\n",
       "      <td>0.611130</td>\n",
       "      <td>0.277341</td>\n",
       "      <td>0.181078</td>\n",
       "      <td>0.360965</td>\n",
       "      <td>0.389413</td>\n",
       "    </tr>\n",
       "    <tr>\n",
       "      <th>3</th>\n",
       "      <td>0.697115</td>\n",
       "      <td>0.720129</td>\n",
       "      <td>0.742410</td>\n",
       "      <td>0.757004</td>\n",
       "      <td>0.768102</td>\n",
       "      <td>0.774102</td>\n",
       "      <td>0.771670</td>\n",
       "      <td>0.777028</td>\n",
       "      <td>0.803574</td>\n",
       "      <td>0.865917</td>\n",
       "      <td>...</td>\n",
       "      <td>0.257632</td>\n",
       "      <td>0.380956</td>\n",
       "      <td>0.247949</td>\n",
       "      <td>0.028032</td>\n",
       "      <td>0.054262</td>\n",
       "      <td>0.031871</td>\n",
       "      <td>0.029370</td>\n",
       "      <td>0.031908</td>\n",
       "      <td>0.105188</td>\n",
       "      <td>0.066331</td>\n",
       "    </tr>\n",
       "    <tr>\n",
       "      <th>4</th>\n",
       "      <td>0.395489</td>\n",
       "      <td>0.444148</td>\n",
       "      <td>0.511326</td>\n",
       "      <td>0.585421</td>\n",
       "      <td>0.591931</td>\n",
       "      <td>0.529378</td>\n",
       "      <td>0.451563</td>\n",
       "      <td>0.434460</td>\n",
       "      <td>0.501612</td>\n",
       "      <td>0.609857</td>\n",
       "      <td>...</td>\n",
       "      <td>0.029509</td>\n",
       "      <td>0.008531</td>\n",
       "      <td>0.000743</td>\n",
       "      <td>0.001505</td>\n",
       "      <td>0.013416</td>\n",
       "      <td>0.011163</td>\n",
       "      <td>0.007409</td>\n",
       "      <td>0.026169</td>\n",
       "      <td>0.001369</td>\n",
       "      <td>0.000285</td>\n",
       "    </tr>\n",
       "    <tr>\n",
       "      <th>5</th>\n",
       "      <td>0.982010</td>\n",
       "      <td>0.983973</td>\n",
       "      <td>0.976037</td>\n",
       "      <td>0.907215</td>\n",
       "      <td>0.871702</td>\n",
       "      <td>0.830169</td>\n",
       "      <td>0.737725</td>\n",
       "      <td>0.913913</td>\n",
       "      <td>0.826164</td>\n",
       "      <td>0.706214</td>\n",
       "      <td>...</td>\n",
       "      <td>0.071835</td>\n",
       "      <td>0.179621</td>\n",
       "      <td>0.050026</td>\n",
       "      <td>0.139523</td>\n",
       "      <td>0.101536</td>\n",
       "      <td>0.101996</td>\n",
       "      <td>0.102829</td>\n",
       "      <td>0.101631</td>\n",
       "      <td>0.145538</td>\n",
       "      <td>0.097693</td>\n",
       "    </tr>\n",
       "    <tr>\n",
       "      <th>6</th>\n",
       "      <td>0.553554</td>\n",
       "      <td>0.597196</td>\n",
       "      <td>0.513659</td>\n",
       "      <td>0.457084</td>\n",
       "      <td>0.551587</td>\n",
       "      <td>0.589126</td>\n",
       "      <td>0.553208</td>\n",
       "      <td>0.583493</td>\n",
       "      <td>0.552960</td>\n",
       "      <td>0.525873</td>\n",
       "      <td>...</td>\n",
       "      <td>0.645348</td>\n",
       "      <td>0.383788</td>\n",
       "      <td>0.324136</td>\n",
       "      <td>0.043610</td>\n",
       "      <td>0.022086</td>\n",
       "      <td>0.022632</td>\n",
       "      <td>0.057330</td>\n",
       "      <td>0.062231</td>\n",
       "      <td>0.055869</td>\n",
       "      <td>0.071409</td>\n",
       "    </tr>\n",
       "    <tr>\n",
       "      <th>7</th>\n",
       "      <td>0.158884</td>\n",
       "      <td>0.200461</td>\n",
       "      <td>0.244514</td>\n",
       "      <td>0.298368</td>\n",
       "      <td>0.336851</td>\n",
       "      <td>0.290195</td>\n",
       "      <td>0.130975</td>\n",
       "      <td>0.000000</td>\n",
       "      <td>0.000000</td>\n",
       "      <td>0.000000</td>\n",
       "      <td>...</td>\n",
       "      <td>0.495183</td>\n",
       "      <td>0.311731</td>\n",
       "      <td>0.658091</td>\n",
       "      <td>0.022811</td>\n",
       "      <td>0.020195</td>\n",
       "      <td>0.041580</td>\n",
       "      <td>0.027676</td>\n",
       "      <td>0.057541</td>\n",
       "      <td>0.047450</td>\n",
       "      <td>0.018751</td>\n",
       "    </tr>\n",
       "    <tr>\n",
       "      <th>8</th>\n",
       "      <td>0.851350</td>\n",
       "      <td>0.927694</td>\n",
       "      <td>0.969361</td>\n",
       "      <td>0.991125</td>\n",
       "      <td>0.996144</td>\n",
       "      <td>0.980628</td>\n",
       "      <td>0.935348</td>\n",
       "      <td>0.875581</td>\n",
       "      <td>0.950919</td>\n",
       "      <td>0.991463</td>\n",
       "      <td>...</td>\n",
       "      <td>0.275560</td>\n",
       "      <td>0.327791</td>\n",
       "      <td>0.216201</td>\n",
       "      <td>0.087631</td>\n",
       "      <td>0.202016</td>\n",
       "      <td>0.254776</td>\n",
       "      <td>0.227928</td>\n",
       "      <td>0.253435</td>\n",
       "      <td>0.366998</td>\n",
       "      <td>0.216060</td>\n",
       "    </tr>\n",
       "    <tr>\n",
       "      <th>9</th>\n",
       "      <td>0.809576</td>\n",
       "      <td>0.898460</td>\n",
       "      <td>0.959805</td>\n",
       "      <td>1.000000</td>\n",
       "      <td>0.938453</td>\n",
       "      <td>0.900318</td>\n",
       "      <td>0.836451</td>\n",
       "      <td>0.779404</td>\n",
       "      <td>0.884884</td>\n",
       "      <td>0.979996</td>\n",
       "      <td>...</td>\n",
       "      <td>0.016289</td>\n",
       "      <td>0.014710</td>\n",
       "      <td>0.018426</td>\n",
       "      <td>0.166605</td>\n",
       "      <td>0.013387</td>\n",
       "      <td>0.020451</td>\n",
       "      <td>0.021585</td>\n",
       "      <td>0.019802</td>\n",
       "      <td>0.019131</td>\n",
       "      <td>0.028442</td>\n",
       "    </tr>\n",
       "  </tbody>\n",
       "</table>\n",
       "<p>10 rows × 294 columns</p>\n",
       "</div>"
      ],
      "text/plain": [
       "        0         1         2         3         4         5         6    \\\n",
       "0  0.704118  0.782665  0.826754  0.850307  0.862206  0.848290  0.791599   \n",
       "1  0.643679  0.652197  0.654330  0.640379  0.650713  0.641521  0.621050   \n",
       "2  0.638064  0.716210  0.702273  0.688614  0.706903  0.614386  0.637293   \n",
       "3  0.697115  0.720129  0.742410  0.757004  0.768102  0.774102  0.771670   \n",
       "4  0.395489  0.444148  0.511326  0.585421  0.591931  0.529378  0.451563   \n",
       "5  0.982010  0.983973  0.976037  0.907215  0.871702  0.830169  0.737725   \n",
       "6  0.553554  0.597196  0.513659  0.457084  0.551587  0.589126  0.553208   \n",
       "7  0.158884  0.200461  0.244514  0.298368  0.336851  0.290195  0.130975   \n",
       "8  0.851350  0.927694  0.969361  0.991125  0.996144  0.980628  0.935348   \n",
       "9  0.809576  0.898460  0.959805  1.000000  0.938453  0.900318  0.836451   \n",
       "\n",
       "        7         8         9    ...       284       285       286       287  \\\n",
       "0  0.713442  0.782930  0.820271  ...  0.005394  0.006934  0.005102  0.132826   \n",
       "1  0.660025  0.668678  0.511797  ...  0.279093  0.269565  0.317801  0.317868   \n",
       "2  0.710090  0.655733  0.730836  ...  0.226770  0.124101  0.312273  0.149486   \n",
       "3  0.777028  0.803574  0.865917  ...  0.257632  0.380956  0.247949  0.028032   \n",
       "4  0.434460  0.501612  0.609857  ...  0.029509  0.008531  0.000743  0.001505   \n",
       "5  0.913913  0.826164  0.706214  ...  0.071835  0.179621  0.050026  0.139523   \n",
       "6  0.583493  0.552960  0.525873  ...  0.645348  0.383788  0.324136  0.043610   \n",
       "7  0.000000  0.000000  0.000000  ...  0.495183  0.311731  0.658091  0.022811   \n",
       "8  0.875581  0.950919  0.991463  ...  0.275560  0.327791  0.216201  0.087631   \n",
       "9  0.779404  0.884884  0.979996  ...  0.016289  0.014710  0.018426  0.166605   \n",
       "\n",
       "        288       289       290       291       292       293  \n",
       "0  0.113477  0.055774  0.036591  0.004899  0.003292  0.003425  \n",
       "1  0.238296  0.218125  0.234468  0.321567  0.262156  0.356931  \n",
       "2  0.149307  0.611130  0.277341  0.181078  0.360965  0.389413  \n",
       "3  0.054262  0.031871  0.029370  0.031908  0.105188  0.066331  \n",
       "4  0.013416  0.011163  0.007409  0.026169  0.001369  0.000285  \n",
       "5  0.101536  0.101996  0.102829  0.101631  0.145538  0.097693  \n",
       "6  0.022086  0.022632  0.057330  0.062231  0.055869  0.071409  \n",
       "7  0.020195  0.041580  0.027676  0.057541  0.047450  0.018751  \n",
       "8  0.202016  0.254776  0.227928  0.253435  0.366998  0.216060  \n",
       "9  0.013387  0.020451  0.021585  0.019802  0.019131  0.028442  \n",
       "\n",
       "[10 rows x 294 columns]"
      ]
     },
     "execution_count": 6,
     "metadata": {},
     "output_type": "execute_result"
    }
   ],
   "source": [
    "X_train.head(10)"
   ]
  },
  {
   "cell_type": "code",
   "execution_count": 7,
   "id": "2dca0ced",
   "metadata": {},
   "outputs": [
    {
     "data": {
      "text/html": [
       "<div>\n",
       "<style scoped>\n",
       "    .dataframe tbody tr th:only-of-type {\n",
       "        vertical-align: middle;\n",
       "    }\n",
       "\n",
       "    .dataframe tbody tr th {\n",
       "        vertical-align: top;\n",
       "    }\n",
       "\n",
       "    .dataframe thead th {\n",
       "        text-align: right;\n",
       "    }\n",
       "</style>\n",
       "<table border=\"1\" class=\"dataframe\">\n",
       "  <thead>\n",
       "    <tr style=\"text-align: right;\">\n",
       "      <th></th>\n",
       "      <th>0</th>\n",
       "      <th>1</th>\n",
       "      <th>2</th>\n",
       "      <th>3</th>\n",
       "      <th>4</th>\n",
       "      <th>5</th>\n",
       "    </tr>\n",
       "  </thead>\n",
       "  <tbody>\n",
       "    <tr>\n",
       "      <th>0</th>\n",
       "      <td>0</td>\n",
       "      <td>0</td>\n",
       "      <td>0</td>\n",
       "      <td>1</td>\n",
       "      <td>0</td>\n",
       "      <td>0</td>\n",
       "    </tr>\n",
       "    <tr>\n",
       "      <th>1</th>\n",
       "      <td>0</td>\n",
       "      <td>0</td>\n",
       "      <td>0</td>\n",
       "      <td>0</td>\n",
       "      <td>0</td>\n",
       "      <td>1</td>\n",
       "    </tr>\n",
       "    <tr>\n",
       "      <th>2</th>\n",
       "      <td>1</td>\n",
       "      <td>0</td>\n",
       "      <td>0</td>\n",
       "      <td>0</td>\n",
       "      <td>1</td>\n",
       "      <td>0</td>\n",
       "    </tr>\n",
       "    <tr>\n",
       "      <th>3</th>\n",
       "      <td>0</td>\n",
       "      <td>0</td>\n",
       "      <td>0</td>\n",
       "      <td>1</td>\n",
       "      <td>0</td>\n",
       "      <td>0</td>\n",
       "    </tr>\n",
       "    <tr>\n",
       "      <th>4</th>\n",
       "      <td>0</td>\n",
       "      <td>0</td>\n",
       "      <td>0</td>\n",
       "      <td>0</td>\n",
       "      <td>1</td>\n",
       "      <td>0</td>\n",
       "    </tr>\n",
       "    <tr>\n",
       "      <th>...</th>\n",
       "      <td>...</td>\n",
       "      <td>...</td>\n",
       "      <td>...</td>\n",
       "      <td>...</td>\n",
       "      <td>...</td>\n",
       "      <td>...</td>\n",
       "    </tr>\n",
       "    <tr>\n",
       "      <th>902</th>\n",
       "      <td>0</td>\n",
       "      <td>1</td>\n",
       "      <td>0</td>\n",
       "      <td>0</td>\n",
       "      <td>0</td>\n",
       "      <td>0</td>\n",
       "    </tr>\n",
       "    <tr>\n",
       "      <th>903</th>\n",
       "      <td>0</td>\n",
       "      <td>0</td>\n",
       "      <td>0</td>\n",
       "      <td>0</td>\n",
       "      <td>0</td>\n",
       "      <td>1</td>\n",
       "    </tr>\n",
       "    <tr>\n",
       "      <th>904</th>\n",
       "      <td>0</td>\n",
       "      <td>1</td>\n",
       "      <td>0</td>\n",
       "      <td>0</td>\n",
       "      <td>0</td>\n",
       "      <td>0</td>\n",
       "    </tr>\n",
       "    <tr>\n",
       "      <th>905</th>\n",
       "      <td>0</td>\n",
       "      <td>0</td>\n",
       "      <td>0</td>\n",
       "      <td>1</td>\n",
       "      <td>0</td>\n",
       "      <td>0</td>\n",
       "    </tr>\n",
       "    <tr>\n",
       "      <th>906</th>\n",
       "      <td>0</td>\n",
       "      <td>0</td>\n",
       "      <td>0</td>\n",
       "      <td>0</td>\n",
       "      <td>1</td>\n",
       "      <td>0</td>\n",
       "    </tr>\n",
       "  </tbody>\n",
       "</table>\n",
       "<p>907 rows × 6 columns</p>\n",
       "</div>"
      ],
      "text/plain": [
       "     0  1  2  3  4  5\n",
       "0    0  0  0  1  0  0\n",
       "1    0  0  0  0  0  1\n",
       "2    1  0  0  0  1  0\n",
       "3    0  0  0  1  0  0\n",
       "4    0  0  0  0  1  0\n",
       "..  .. .. .. .. .. ..\n",
       "902  0  1  0  0  0  0\n",
       "903  0  0  0  0  0  1\n",
       "904  0  1  0  0  0  0\n",
       "905  0  0  0  1  0  0\n",
       "906  0  0  0  0  1  0\n",
       "\n",
       "[907 rows x 6 columns]"
      ]
     },
     "execution_count": 7,
     "metadata": {},
     "output_type": "execute_result"
    }
   ],
   "source": [
    "y_test"
   ]
  },
  {
   "cell_type": "code",
   "execution_count": 24,
   "id": "ad4dc355",
   "metadata": {},
   "outputs": [],
   "source": [
    "from sklearn.multiclass import OneVsRestClassifier\n",
    "from sklearn.svm import LinearSVC"
   ]
  },
  {
   "cell_type": "code",
   "execution_count": 25,
   "id": "88510e60",
   "metadata": {},
   "outputs": [
    {
     "name": "stdout",
     "output_type": "stream",
     "text": [
      "AdaBoostClassifier\n",
      "BaggingClassifier\n",
      "BayesianGaussianMixture\n",
      "BernoulliNB\n",
      "CalibratedClassifierCV\n",
      "CategoricalNB\n",
      "ClassifierChain\n",
      "ComplementNB\n",
      "DecisionTreeClassifier\n",
      "DummyClassifier\n",
      "ExtraTreeClassifier\n",
      "ExtraTreesClassifier\n",
      "GaussianMixture\n",
      "GaussianNB\n",
      "GaussianProcessClassifier\n",
      "GradientBoostingClassifier\n",
      "GridSearchCV\n",
      "HalvingGridSearchCV\n",
      "HalvingRandomSearchCV\n",
      "HistGradientBoostingClassifier\n",
      "KNeighborsClassifier\n",
      "LabelPropagation\n",
      "LabelSpreading\n",
      "LinearDiscriminantAnalysis\n",
      "LogisticRegression\n",
      "LogisticRegressionCV\n",
      "MLPClassifier\n",
      "MultiOutputClassifier\n",
      "MultinomialNB\n",
      "NuSVC\n",
      "OneVsRestClassifier\n",
      "Pipeline\n",
      "QuadraticDiscriminantAnalysis\n",
      "RFE\n",
      "RFECV\n",
      "RadiusNeighborsClassifier\n",
      "RandomForestClassifier\n",
      "RandomizedSearchCV\n",
      "SGDClassifier\n",
      "SVC\n",
      "SelfTrainingClassifier\n",
      "StackingClassifier\n",
      "VotingClassifier\n"
     ]
    }
   ],
   "source": [
    "import sklearn\n",
    "estimators = sklearn.utils.all_estimators(type_filter=None)\n",
    "for name, class_ in estimators:\n",
    "    if hasattr(class_, 'predict_proba'):\n",
    "        print(name)"
   ]
  },
  {
   "cell_type": "code",
   "execution_count": 26,
   "id": "f69a31fb",
   "metadata": {},
   "outputs": [],
   "source": [
    "from sklearn.svm import LinearSVC\n",
    "from sklearn.metrics import accuracy_score\n",
    "from sklearn.multiclass import OneVsOneClassifier"
   ]
  },
  {
   "cell_type": "code",
   "execution_count": 27,
   "id": "ac1f2c1b",
   "metadata": {},
   "outputs": [],
   "source": [
    "vr = OneVsRestClassifier(LinearSVC(random_state=0,max_iter=1000000,multi_class='ovr')).fit(X_train,y_train)"
   ]
  },
  {
   "cell_type": "code",
   "execution_count": 13,
   "id": "f88ca045",
   "metadata": {},
   "outputs": [
    {
     "data": {
      "text/plain": [
       "6"
      ]
     },
     "execution_count": 13,
     "metadata": {},
     "output_type": "execute_result"
    }
   ],
   "source": [
    "vr.n_classes_"
   ]
  },
  {
   "cell_type": "code",
   "execution_count": 14,
   "id": "360d35f4",
   "metadata": {},
   "outputs": [
    {
     "data": {
      "text/plain": [
       "[LinearSVC(max_iter=1000000, random_state=0),\n",
       " LinearSVC(max_iter=1000000, random_state=0),\n",
       " LinearSVC(max_iter=1000000, random_state=0),\n",
       " LinearSVC(max_iter=1000000, random_state=0),\n",
       " LinearSVC(max_iter=1000000, random_state=0),\n",
       " LinearSVC(max_iter=1000000, random_state=0)]"
      ]
     },
     "execution_count": 14,
     "metadata": {},
     "output_type": "execute_result"
    }
   ],
   "source": [
    "vr.estimators_"
   ]
  },
  {
   "cell_type": "code",
   "execution_count": 15,
   "id": "c916f07c",
   "metadata": {},
   "outputs": [
    {
     "data": {
      "text/plain": [
       "array([[0, 0, 0, 1, 0, 0],\n",
       "       [0, 0, 0, 0, 1, 1],\n",
       "       [0, 0, 0, 0, 1, 0],\n",
       "       ...,\n",
       "       [0, 1, 0, 0, 0, 0],\n",
       "       [0, 0, 0, 0, 0, 0],\n",
       "       [0, 0, 0, 0, 1, 0]])"
      ]
     },
     "execution_count": 15,
     "metadata": {},
     "output_type": "execute_result"
    }
   ],
   "source": [
    "vr.predict(X_test)"
   ]
  },
  {
   "cell_type": "code",
   "execution_count": 16,
   "id": "ffbfc5ad",
   "metadata": {},
   "outputs": [
    {
     "data": {
      "text/html": [
       "<div>\n",
       "<style scoped>\n",
       "    .dataframe tbody tr th:only-of-type {\n",
       "        vertical-align: middle;\n",
       "    }\n",
       "\n",
       "    .dataframe tbody tr th {\n",
       "        vertical-align: top;\n",
       "    }\n",
       "\n",
       "    .dataframe thead th {\n",
       "        text-align: right;\n",
       "    }\n",
       "</style>\n",
       "<table border=\"1\" class=\"dataframe\">\n",
       "  <thead>\n",
       "    <tr style=\"text-align: right;\">\n",
       "      <th></th>\n",
       "      <th>0</th>\n",
       "      <th>1</th>\n",
       "      <th>2</th>\n",
       "      <th>3</th>\n",
       "      <th>4</th>\n",
       "      <th>5</th>\n",
       "    </tr>\n",
       "  </thead>\n",
       "  <tbody>\n",
       "    <tr>\n",
       "      <th>0</th>\n",
       "      <td>0</td>\n",
       "      <td>0</td>\n",
       "      <td>0</td>\n",
       "      <td>1</td>\n",
       "      <td>0</td>\n",
       "      <td>0</td>\n",
       "    </tr>\n",
       "    <tr>\n",
       "      <th>1</th>\n",
       "      <td>0</td>\n",
       "      <td>0</td>\n",
       "      <td>0</td>\n",
       "      <td>0</td>\n",
       "      <td>0</td>\n",
       "      <td>1</td>\n",
       "    </tr>\n",
       "    <tr>\n",
       "      <th>2</th>\n",
       "      <td>1</td>\n",
       "      <td>0</td>\n",
       "      <td>0</td>\n",
       "      <td>0</td>\n",
       "      <td>1</td>\n",
       "      <td>0</td>\n",
       "    </tr>\n",
       "    <tr>\n",
       "      <th>3</th>\n",
       "      <td>0</td>\n",
       "      <td>0</td>\n",
       "      <td>0</td>\n",
       "      <td>1</td>\n",
       "      <td>0</td>\n",
       "      <td>0</td>\n",
       "    </tr>\n",
       "    <tr>\n",
       "      <th>4</th>\n",
       "      <td>0</td>\n",
       "      <td>0</td>\n",
       "      <td>0</td>\n",
       "      <td>0</td>\n",
       "      <td>1</td>\n",
       "      <td>0</td>\n",
       "    </tr>\n",
       "    <tr>\n",
       "      <th>...</th>\n",
       "      <td>...</td>\n",
       "      <td>...</td>\n",
       "      <td>...</td>\n",
       "      <td>...</td>\n",
       "      <td>...</td>\n",
       "      <td>...</td>\n",
       "    </tr>\n",
       "    <tr>\n",
       "      <th>902</th>\n",
       "      <td>0</td>\n",
       "      <td>1</td>\n",
       "      <td>0</td>\n",
       "      <td>0</td>\n",
       "      <td>0</td>\n",
       "      <td>0</td>\n",
       "    </tr>\n",
       "    <tr>\n",
       "      <th>903</th>\n",
       "      <td>0</td>\n",
       "      <td>0</td>\n",
       "      <td>0</td>\n",
       "      <td>0</td>\n",
       "      <td>0</td>\n",
       "      <td>1</td>\n",
       "    </tr>\n",
       "    <tr>\n",
       "      <th>904</th>\n",
       "      <td>0</td>\n",
       "      <td>1</td>\n",
       "      <td>0</td>\n",
       "      <td>0</td>\n",
       "      <td>0</td>\n",
       "      <td>0</td>\n",
       "    </tr>\n",
       "    <tr>\n",
       "      <th>905</th>\n",
       "      <td>0</td>\n",
       "      <td>0</td>\n",
       "      <td>0</td>\n",
       "      <td>1</td>\n",
       "      <td>0</td>\n",
       "      <td>0</td>\n",
       "    </tr>\n",
       "    <tr>\n",
       "      <th>906</th>\n",
       "      <td>0</td>\n",
       "      <td>0</td>\n",
       "      <td>0</td>\n",
       "      <td>0</td>\n",
       "      <td>1</td>\n",
       "      <td>0</td>\n",
       "    </tr>\n",
       "  </tbody>\n",
       "</table>\n",
       "<p>907 rows × 6 columns</p>\n",
       "</div>"
      ],
      "text/plain": [
       "     0  1  2  3  4  5\n",
       "0    0  0  0  1  0  0\n",
       "1    0  0  0  0  0  1\n",
       "2    1  0  0  0  1  0\n",
       "3    0  0  0  1  0  0\n",
       "4    0  0  0  0  1  0\n",
       "..  .. .. .. .. .. ..\n",
       "902  0  1  0  0  0  0\n",
       "903  0  0  0  0  0  1\n",
       "904  0  1  0  0  0  0\n",
       "905  0  0  0  1  0  0\n",
       "906  0  0  0  0  1  0\n",
       "\n",
       "[907 rows x 6 columns]"
      ]
     },
     "execution_count": 16,
     "metadata": {},
     "output_type": "execute_result"
    }
   ],
   "source": [
    "y_test"
   ]
  },
  {
   "cell_type": "code",
   "execution_count": 17,
   "id": "2272ab25",
   "metadata": {},
   "outputs": [
    {
     "data": {
      "text/plain": [
       "0.4796030871003308"
      ]
     },
     "execution_count": 17,
     "metadata": {},
     "output_type": "execute_result"
    }
   ],
   "source": [
    "vr.score(X_test,y_test)"
   ]
  },
  {
   "cell_type": "code",
   "execution_count": 18,
   "id": "5c263f3d",
   "metadata": {},
   "outputs": [
    {
     "data": {
      "text/plain": [
       "array([[-0.55564872, -7.64651469, -0.25884347,  0.70580978, -1.20465426,\n",
       "        -0.85640069],\n",
       "       [-2.12405271, -2.37194664, -3.1994914 , -2.73039427,  0.35227409,\n",
       "         0.55454662],\n",
       "       [-0.22271868, -3.1777663 , -2.23268727, -1.5253314 ,  0.37421098,\n",
       "        -0.70172607],\n",
       "       ...,\n",
       "       [-2.7980028 ,  3.61745653, -4.3306928 , -2.5505433 , -0.34825784,\n",
       "        -0.00934845],\n",
       "       [-1.9728118 , -1.60302189, -2.8662071 , -0.14985227, -0.43502215,\n",
       "        -1.60934667],\n",
       "       [-0.3445911 , -6.42837109, -0.71561722, -1.40920884,  0.36135878,\n",
       "        -1.46338679]])"
      ]
     },
     "execution_count": 18,
     "metadata": {},
     "output_type": "execute_result"
    }
   ],
   "source": [
    "vr.decision_function(X_test)"
   ]
  },
  {
   "cell_type": "code",
   "execution_count": 19,
   "id": "96b195aa",
   "metadata": {},
   "outputs": [],
   "source": [
    "#OneVsOne\n",
    "#Creating seperate classes for each label\n",
    "y_train0=y_train[0]\n",
    "y_train1=y_train[1]\n",
    "y_train2=y_train[2]\n",
    "y_train3=y_train[3]\n",
    "y_train4=y_train[4]\n",
    "y_train5=y_train[5]"
   ]
  },
  {
   "cell_type": "code",
   "execution_count": 73,
   "id": "3e115529",
   "metadata": {},
   "outputs": [
    {
     "data": {
      "text/html": [
       "<div>\n",
       "<style scoped>\n",
       "    .dataframe tbody tr th:only-of-type {\n",
       "        vertical-align: middle;\n",
       "    }\n",
       "\n",
       "    .dataframe tbody tr th {\n",
       "        vertical-align: top;\n",
       "    }\n",
       "\n",
       "    .dataframe thead th {\n",
       "        text-align: right;\n",
       "    }\n",
       "</style>\n",
       "<table border=\"1\" class=\"dataframe\">\n",
       "  <thead>\n",
       "    <tr style=\"text-align: right;\">\n",
       "      <th></th>\n",
       "      <th>0</th>\n",
       "      <th>1</th>\n",
       "      <th>2</th>\n",
       "      <th>3</th>\n",
       "      <th>4</th>\n",
       "      <th>5</th>\n",
       "      <th>6</th>\n",
       "      <th>7</th>\n",
       "      <th>8</th>\n",
       "      <th>9</th>\n",
       "      <th>...</th>\n",
       "      <th>284</th>\n",
       "      <th>285</th>\n",
       "      <th>286</th>\n",
       "      <th>287</th>\n",
       "      <th>288</th>\n",
       "      <th>289</th>\n",
       "      <th>290</th>\n",
       "      <th>291</th>\n",
       "      <th>292</th>\n",
       "      <th>293</th>\n",
       "    </tr>\n",
       "  </thead>\n",
       "  <tbody>\n",
       "    <tr>\n",
       "      <th>0</th>\n",
       "      <td>0.704118</td>\n",
       "      <td>0.782665</td>\n",
       "      <td>0.826754</td>\n",
       "      <td>0.850307</td>\n",
       "      <td>0.862206</td>\n",
       "      <td>0.848290</td>\n",
       "      <td>0.791599</td>\n",
       "      <td>0.713442</td>\n",
       "      <td>0.782930</td>\n",
       "      <td>0.820271</td>\n",
       "      <td>...</td>\n",
       "      <td>0.005394</td>\n",
       "      <td>0.006934</td>\n",
       "      <td>0.005102</td>\n",
       "      <td>0.132826</td>\n",
       "      <td>0.113477</td>\n",
       "      <td>0.055774</td>\n",
       "      <td>0.036591</td>\n",
       "      <td>0.004899</td>\n",
       "      <td>0.003292</td>\n",
       "      <td>0.003425</td>\n",
       "    </tr>\n",
       "    <tr>\n",
       "      <th>1</th>\n",
       "      <td>0.643679</td>\n",
       "      <td>0.652197</td>\n",
       "      <td>0.654330</td>\n",
       "      <td>0.640379</td>\n",
       "      <td>0.650713</td>\n",
       "      <td>0.641521</td>\n",
       "      <td>0.621050</td>\n",
       "      <td>0.660025</td>\n",
       "      <td>0.668678</td>\n",
       "      <td>0.511797</td>\n",
       "      <td>...</td>\n",
       "      <td>0.279093</td>\n",
       "      <td>0.269565</td>\n",
       "      <td>0.317801</td>\n",
       "      <td>0.317868</td>\n",
       "      <td>0.238296</td>\n",
       "      <td>0.218125</td>\n",
       "      <td>0.234468</td>\n",
       "      <td>0.321567</td>\n",
       "      <td>0.262156</td>\n",
       "      <td>0.356931</td>\n",
       "    </tr>\n",
       "    <tr>\n",
       "      <th>2</th>\n",
       "      <td>0.638064</td>\n",
       "      <td>0.716210</td>\n",
       "      <td>0.702273</td>\n",
       "      <td>0.688614</td>\n",
       "      <td>0.706903</td>\n",
       "      <td>0.614386</td>\n",
       "      <td>0.637293</td>\n",
       "      <td>0.710090</td>\n",
       "      <td>0.655733</td>\n",
       "      <td>0.730836</td>\n",
       "      <td>...</td>\n",
       "      <td>0.226770</td>\n",
       "      <td>0.124101</td>\n",
       "      <td>0.312273</td>\n",
       "      <td>0.149486</td>\n",
       "      <td>0.149307</td>\n",
       "      <td>0.611130</td>\n",
       "      <td>0.277341</td>\n",
       "      <td>0.181078</td>\n",
       "      <td>0.360965</td>\n",
       "      <td>0.389413</td>\n",
       "    </tr>\n",
       "    <tr>\n",
       "      <th>3</th>\n",
       "      <td>0.697115</td>\n",
       "      <td>0.720129</td>\n",
       "      <td>0.742410</td>\n",
       "      <td>0.757004</td>\n",
       "      <td>0.768102</td>\n",
       "      <td>0.774102</td>\n",
       "      <td>0.771670</td>\n",
       "      <td>0.777028</td>\n",
       "      <td>0.803574</td>\n",
       "      <td>0.865917</td>\n",
       "      <td>...</td>\n",
       "      <td>0.257632</td>\n",
       "      <td>0.380956</td>\n",
       "      <td>0.247949</td>\n",
       "      <td>0.028032</td>\n",
       "      <td>0.054262</td>\n",
       "      <td>0.031871</td>\n",
       "      <td>0.029370</td>\n",
       "      <td>0.031908</td>\n",
       "      <td>0.105188</td>\n",
       "      <td>0.066331</td>\n",
       "    </tr>\n",
       "    <tr>\n",
       "      <th>4</th>\n",
       "      <td>0.395489</td>\n",
       "      <td>0.444148</td>\n",
       "      <td>0.511326</td>\n",
       "      <td>0.585421</td>\n",
       "      <td>0.591931</td>\n",
       "      <td>0.529378</td>\n",
       "      <td>0.451563</td>\n",
       "      <td>0.434460</td>\n",
       "      <td>0.501612</td>\n",
       "      <td>0.609857</td>\n",
       "      <td>...</td>\n",
       "      <td>0.029509</td>\n",
       "      <td>0.008531</td>\n",
       "      <td>0.000743</td>\n",
       "      <td>0.001505</td>\n",
       "      <td>0.013416</td>\n",
       "      <td>0.011163</td>\n",
       "      <td>0.007409</td>\n",
       "      <td>0.026169</td>\n",
       "      <td>0.001369</td>\n",
       "      <td>0.000285</td>\n",
       "    </tr>\n",
       "    <tr>\n",
       "      <th>...</th>\n",
       "      <td>...</td>\n",
       "      <td>...</td>\n",
       "      <td>...</td>\n",
       "      <td>...</td>\n",
       "      <td>...</td>\n",
       "      <td>...</td>\n",
       "      <td>...</td>\n",
       "      <td>...</td>\n",
       "      <td>...</td>\n",
       "      <td>...</td>\n",
       "      <td>...</td>\n",
       "      <td>...</td>\n",
       "      <td>...</td>\n",
       "      <td>...</td>\n",
       "      <td>...</td>\n",
       "      <td>...</td>\n",
       "      <td>...</td>\n",
       "      <td>...</td>\n",
       "      <td>...</td>\n",
       "      <td>...</td>\n",
       "      <td>...</td>\n",
       "    </tr>\n",
       "    <tr>\n",
       "      <th>1495</th>\n",
       "      <td>0.565162</td>\n",
       "      <td>0.593628</td>\n",
       "      <td>0.613318</td>\n",
       "      <td>0.642111</td>\n",
       "      <td>0.670757</td>\n",
       "      <td>0.685906</td>\n",
       "      <td>0.672304</td>\n",
       "      <td>0.551819</td>\n",
       "      <td>0.557388</td>\n",
       "      <td>0.568411</td>\n",
       "      <td>...</td>\n",
       "      <td>0.081269</td>\n",
       "      <td>0.077001</td>\n",
       "      <td>0.036069</td>\n",
       "      <td>0.003520</td>\n",
       "      <td>0.018456</td>\n",
       "      <td>0.015989</td>\n",
       "      <td>0.003423</td>\n",
       "      <td>0.007994</td>\n",
       "      <td>0.022799</td>\n",
       "      <td>0.015765</td>\n",
       "    </tr>\n",
       "    <tr>\n",
       "      <th>1496</th>\n",
       "      <td>0.926532</td>\n",
       "      <td>0.940977</td>\n",
       "      <td>1.000000</td>\n",
       "      <td>0.993770</td>\n",
       "      <td>1.000000</td>\n",
       "      <td>1.000000</td>\n",
       "      <td>0.985686</td>\n",
       "      <td>0.759089</td>\n",
       "      <td>0.769743</td>\n",
       "      <td>0.795210</td>\n",
       "      <td>...</td>\n",
       "      <td>0.392813</td>\n",
       "      <td>0.262607</td>\n",
       "      <td>0.027523</td>\n",
       "      <td>0.094339</td>\n",
       "      <td>0.132512</td>\n",
       "      <td>0.062661</td>\n",
       "      <td>0.044862</td>\n",
       "      <td>0.280755</td>\n",
       "      <td>0.098278</td>\n",
       "      <td>0.036987</td>\n",
       "    </tr>\n",
       "    <tr>\n",
       "      <th>1497</th>\n",
       "      <td>0.756958</td>\n",
       "      <td>0.790821</td>\n",
       "      <td>0.812856</td>\n",
       "      <td>0.828085</td>\n",
       "      <td>0.837777</td>\n",
       "      <td>0.836020</td>\n",
       "      <td>0.803997</td>\n",
       "      <td>0.795372</td>\n",
       "      <td>0.828114</td>\n",
       "      <td>0.850893</td>\n",
       "      <td>...</td>\n",
       "      <td>0.381488</td>\n",
       "      <td>0.346006</td>\n",
       "      <td>0.322578</td>\n",
       "      <td>0.102588</td>\n",
       "      <td>0.056350</td>\n",
       "      <td>0.460449</td>\n",
       "      <td>0.510115</td>\n",
       "      <td>0.523106</td>\n",
       "      <td>0.727540</td>\n",
       "      <td>0.633169</td>\n",
       "    </tr>\n",
       "    <tr>\n",
       "      <th>1498</th>\n",
       "      <td>0.671551</td>\n",
       "      <td>0.686124</td>\n",
       "      <td>0.703867</td>\n",
       "      <td>0.728044</td>\n",
       "      <td>0.751899</td>\n",
       "      <td>0.776850</td>\n",
       "      <td>0.801989</td>\n",
       "      <td>0.745281</td>\n",
       "      <td>0.758513</td>\n",
       "      <td>0.775925</td>\n",
       "      <td>...</td>\n",
       "      <td>0.407526</td>\n",
       "      <td>0.263004</td>\n",
       "      <td>0.111160</td>\n",
       "      <td>0.068774</td>\n",
       "      <td>0.091992</td>\n",
       "      <td>0.049310</td>\n",
       "      <td>0.010933</td>\n",
       "      <td>0.009327</td>\n",
       "      <td>0.008351</td>\n",
       "      <td>0.023944</td>\n",
       "    </tr>\n",
       "    <tr>\n",
       "      <th>1499</th>\n",
       "      <td>0.750034</td>\n",
       "      <td>0.768183</td>\n",
       "      <td>0.780660</td>\n",
       "      <td>0.789099</td>\n",
       "      <td>0.782568</td>\n",
       "      <td>0.773419</td>\n",
       "      <td>0.757969</td>\n",
       "      <td>0.743150</td>\n",
       "      <td>0.798733</td>\n",
       "      <td>0.818420</td>\n",
       "      <td>...</td>\n",
       "      <td>0.127482</td>\n",
       "      <td>0.005143</td>\n",
       "      <td>0.009436</td>\n",
       "      <td>0.097604</td>\n",
       "      <td>0.102147</td>\n",
       "      <td>0.093244</td>\n",
       "      <td>0.150358</td>\n",
       "      <td>0.221667</td>\n",
       "      <td>0.156518</td>\n",
       "      <td>0.053709</td>\n",
       "    </tr>\n",
       "  </tbody>\n",
       "</table>\n",
       "<p>1500 rows × 294 columns</p>\n",
       "</div>"
      ],
      "text/plain": [
       "           0         1         2         3         4         5         6    \\\n",
       "0     0.704118  0.782665  0.826754  0.850307  0.862206  0.848290  0.791599   \n",
       "1     0.643679  0.652197  0.654330  0.640379  0.650713  0.641521  0.621050   \n",
       "2     0.638064  0.716210  0.702273  0.688614  0.706903  0.614386  0.637293   \n",
       "3     0.697115  0.720129  0.742410  0.757004  0.768102  0.774102  0.771670   \n",
       "4     0.395489  0.444148  0.511326  0.585421  0.591931  0.529378  0.451563   \n",
       "...        ...       ...       ...       ...       ...       ...       ...   \n",
       "1495  0.565162  0.593628  0.613318  0.642111  0.670757  0.685906  0.672304   \n",
       "1496  0.926532  0.940977  1.000000  0.993770  1.000000  1.000000  0.985686   \n",
       "1497  0.756958  0.790821  0.812856  0.828085  0.837777  0.836020  0.803997   \n",
       "1498  0.671551  0.686124  0.703867  0.728044  0.751899  0.776850  0.801989   \n",
       "1499  0.750034  0.768183  0.780660  0.789099  0.782568  0.773419  0.757969   \n",
       "\n",
       "           7         8         9    ...       284       285       286  \\\n",
       "0     0.713442  0.782930  0.820271  ...  0.005394  0.006934  0.005102   \n",
       "1     0.660025  0.668678  0.511797  ...  0.279093  0.269565  0.317801   \n",
       "2     0.710090  0.655733  0.730836  ...  0.226770  0.124101  0.312273   \n",
       "3     0.777028  0.803574  0.865917  ...  0.257632  0.380956  0.247949   \n",
       "4     0.434460  0.501612  0.609857  ...  0.029509  0.008531  0.000743   \n",
       "...        ...       ...       ...  ...       ...       ...       ...   \n",
       "1495  0.551819  0.557388  0.568411  ...  0.081269  0.077001  0.036069   \n",
       "1496  0.759089  0.769743  0.795210  ...  0.392813  0.262607  0.027523   \n",
       "1497  0.795372  0.828114  0.850893  ...  0.381488  0.346006  0.322578   \n",
       "1498  0.745281  0.758513  0.775925  ...  0.407526  0.263004  0.111160   \n",
       "1499  0.743150  0.798733  0.818420  ...  0.127482  0.005143  0.009436   \n",
       "\n",
       "           287       288       289       290       291       292       293  \n",
       "0     0.132826  0.113477  0.055774  0.036591  0.004899  0.003292  0.003425  \n",
       "1     0.317868  0.238296  0.218125  0.234468  0.321567  0.262156  0.356931  \n",
       "2     0.149486  0.149307  0.611130  0.277341  0.181078  0.360965  0.389413  \n",
       "3     0.028032  0.054262  0.031871  0.029370  0.031908  0.105188  0.066331  \n",
       "4     0.001505  0.013416  0.011163  0.007409  0.026169  0.001369  0.000285  \n",
       "...        ...       ...       ...       ...       ...       ...       ...  \n",
       "1495  0.003520  0.018456  0.015989  0.003423  0.007994  0.022799  0.015765  \n",
       "1496  0.094339  0.132512  0.062661  0.044862  0.280755  0.098278  0.036987  \n",
       "1497  0.102588  0.056350  0.460449  0.510115  0.523106  0.727540  0.633169  \n",
       "1498  0.068774  0.091992  0.049310  0.010933  0.009327  0.008351  0.023944  \n",
       "1499  0.097604  0.102147  0.093244  0.150358  0.221667  0.156518  0.053709  \n",
       "\n",
       "[1500 rows x 294 columns]"
      ]
     },
     "execution_count": 73,
     "metadata": {},
     "output_type": "execute_result"
    }
   ],
   "source": []
  },
  {
   "cell_type": "code",
   "execution_count": 28,
   "id": "b504f64d",
   "metadata": {},
   "outputs": [
    {
     "data": {
      "text/plain": [
       "SVC()"
      ]
     },
     "execution_count": 28,
     "metadata": {},
     "output_type": "execute_result"
    }
   ],
   "source": [
    "model=SVC()\n",
    "model.fit(X_train,y_train0)"
   ]
  },
  {
   "cell_type": "code",
   "execution_count": 42,
   "id": "4009f717",
   "metadata": {},
   "outputs": [],
   "source": [
    "y_pred0=model.predict(X_test)"
   ]
  },
  {
   "cell_type": "code",
   "execution_count": 30,
   "id": "61ee6730",
   "metadata": {},
   "outputs": [
    {
     "name": "stdout",
     "output_type": "stream",
     "text": [
      "[[724  13]\n",
      " [ 68 102]]\n"
     ]
    }
   ],
   "source": [
    "print(confusion_matrix(y_test[0],y_pred0))\n",
    "cm1=confusion_matrix(y_test[0],y_pred0)"
   ]
  },
  {
   "cell_type": "code",
   "execution_count": 32,
   "id": "ca6b5066",
   "metadata": {},
   "outputs": [
    {
     "name": "stdout",
     "output_type": "stream",
     "text": [
      "[[756   7]\n",
      " [ 21 123]]\n"
     ]
    }
   ],
   "source": [
    "model.fit(X_train,y_train1)\n",
    "y_pred1=model.predict(X_test)\n",
    "print(confusion_matrix(y_test[1],y_pred1))\n",
    "cm2=confusion_matrix(y_test[1],y_pred1)"
   ]
  },
  {
   "cell_type": "code",
   "execution_count": 44,
   "id": "0dbd4dc5",
   "metadata": {},
   "outputs": [
    {
     "name": "stdout",
     "output_type": "stream",
     "text": [
      "[[754   9]\n",
      " [ 31 113]]\n"
     ]
    }
   ],
   "source": [
    "model.fit(X_train,y_train2)\n",
    "y_pred2=model.predict(X_test)\n",
    "print(confusion_matrix(y_test[2],y_pred2))\n",
    "cm3=confusion_matrix(y_test[2],y_pred2)"
   ]
  },
  {
   "cell_type": "code",
   "execution_count": 45,
   "id": "d362e8db",
   "metadata": {},
   "outputs": [
    {
     "name": "stdout",
     "output_type": "stream",
     "text": [
      "[[733  11]\n",
      " [ 47 116]]\n"
     ]
    }
   ],
   "source": [
    "model.fit(X_train,y_train3)\n",
    "y_pred3=model.predict(X_test)\n",
    "print(confusion_matrix(y_test[3],y_pred3))\n",
    "cm4=confusion_matrix(y_test[3],y_pred3)"
   ]
  },
  {
   "cell_type": "code",
   "execution_count": 46,
   "id": "c9fc324f",
   "metadata": {},
   "outputs": [
    {
     "name": "stdout",
     "output_type": "stream",
     "text": [
      "[[686  28]\n",
      " [114  79]]\n"
     ]
    }
   ],
   "source": [
    "model.fit(X_train,y_train4)\n",
    "y_pred4=model.predict(X_test)\n",
    "print(confusion_matrix(y_test[4],y_pred4))\n",
    "cm5=confusion_matrix(y_test[4],y_pred4)"
   ]
  },
  {
   "cell_type": "code",
   "execution_count": 47,
   "id": "4e9e95af",
   "metadata": {},
   "outputs": [
    {
     "name": "stdout",
     "output_type": "stream",
     "text": [
      "[[724  22]\n",
      " [ 80  81]]\n"
     ]
    }
   ],
   "source": [
    "model.fit(X_train,y_train5)\n",
    "y_pred5=model.predict(X_test)\n",
    "print(confusion_matrix(y_test[5],y_pred5))\n",
    "cm6=confusion_matrix(y_test[5],y_pred5)"
   ]
  },
  {
   "cell_type": "code",
   "execution_count": 49,
   "id": "1c0d9c02",
   "metadata": {},
   "outputs": [],
   "source": [
    "prediction=pd.DataFrame()"
   ]
  },
  {
   "cell_type": "code",
   "execution_count": 50,
   "id": "0c525ef9",
   "metadata": {},
   "outputs": [],
   "source": [
    "prediction[0]=y_pred0\n",
    "prediction[1]=y_pred1\n",
    "prediction[2]=y_pred2\n",
    "prediction[3]=y_pred3\n",
    "prediction[4]=y_pred4\n",
    "prediction[5]=y_pred5"
   ]
  },
  {
   "cell_type": "code",
   "execution_count": 51,
   "id": "2d2fe438",
   "metadata": {},
   "outputs": [],
   "source": [
    "from sklearn.metrics import multilabel_confusion_matrix\n",
    "ML_CM=multilabel_confusion_matrix(y_test,prediction)"
   ]
  },
  {
   "cell_type": "code",
   "execution_count": 52,
   "id": "6b74aef7",
   "metadata": {},
   "outputs": [
    {
     "data": {
      "text/plain": [
       "array([[[614, 123],\n",
       "        [166,   4]],\n",
       "\n",
       "       [[756,   7],\n",
       "        [ 21, 123]],\n",
       "\n",
       "       [[754,   9],\n",
       "        [ 31, 113]],\n",
       "\n",
       "       [[733,  11],\n",
       "        [ 47, 116]],\n",
       "\n",
       "       [[686,  28],\n",
       "        [114,  79]],\n",
       "\n",
       "       [[724,  22],\n",
       "        [ 80,  81]]], dtype=int64)"
      ]
     },
     "execution_count": 52,
     "metadata": {},
     "output_type": "execute_result"
    }
   ],
   "source": [
    "ML_CM"
   ]
  },
  {
   "cell_type": "code",
   "execution_count": 53,
   "id": "1ea0cd4c",
   "metadata": {},
   "outputs": [],
   "source": [
    "y_test0=[]\n",
    "y_test0=y_test[0].tolist()"
   ]
  },
  {
   "cell_type": "code",
   "execution_count": 54,
   "id": "3010ddb8",
   "metadata": {},
   "outputs": [],
   "source": [
    "y_pr0=[]\n",
    "y_pr0=y_pred0.tolist()"
   ]
  },
  {
   "cell_type": "code",
   "execution_count": 55,
   "id": "8a13be8f",
   "metadata": {},
   "outputs": [],
   "source": [
    "inter=0\n",
    "unio=0\n",
    "for i in range(0,len(y_pr0)):\n",
    "    if y_pr0[i]==1 and y_test0[i]==1:\n",
    "        inter+=1\n",
    "    elif y_pr0[i]==1 or y_test0[i]==1:\n",
    "        unio+=1\n",
    "    else:\n",
    "        continue"
   ]
  },
  {
   "cell_type": "code",
   "execution_count": 56,
   "id": "2198683b",
   "metadata": {},
   "outputs": [
    {
     "name": "stdout",
     "output_type": "stream",
     "text": [
      "4\n",
      "289\n",
      "0.01384083044982699\n"
     ]
    }
   ],
   "source": [
    "print(inter)\n",
    "print(unio)\n",
    "A=inter/unio\n",
    "print(A)"
   ]
  },
  {
   "cell_type": "code",
   "execution_count": 57,
   "id": "c3080bfc",
   "metadata": {},
   "outputs": [
    {
     "name": "stdout",
     "output_type": "stream",
     "text": [
      "1.2592592592592593\n"
     ]
    }
   ],
   "source": [
    "#From the confusion matric of training on first class\n",
    "TP=cm1[1][1]\n",
    "FPFN=cm1[0][1]+cm1[1][0]\n",
    "#FPFN denotes the denominator of the accuracy formula\n",
    "Accuracy1=TP/FPFN\n",
    "print(Accuracy1)"
   ]
  },
  {
   "cell_type": "code",
   "execution_count": 58,
   "id": "dfc2a1a3",
   "metadata": {},
   "outputs": [
    {
     "name": "stdout",
     "output_type": "stream",
     "text": [
      "4.392857142857143\n"
     ]
    }
   ],
   "source": [
    "#From the confusion matric of training on first class\n",
    "TP1=cm2[1][1]\n",
    "FPFN1=cm2[0][1]+cm2[1][0]\n",
    "#FPFN denotes the denominator of the accuracy formula\n",
    "Accuracy2=TP1/FPFN1\n",
    "print(Accuracy2)"
   ]
  },
  {
   "cell_type": "code",
   "execution_count": 59,
   "id": "f4140b28",
   "metadata": {},
   "outputs": [
    {
     "name": "stdout",
     "output_type": "stream",
     "text": [
      "2.825\n"
     ]
    }
   ],
   "source": [
    "#From the confusion matric of training on first class\n",
    "TP2=cm3[1][1]\n",
    "FPFN2=cm3[0][1]+cm3[1][0]\n",
    "#FPFN denotes the denominator of the accuracy formula\n",
    "Accuracy3=TP2/FPFN2\n",
    "print(Accuracy3)"
   ]
  },
  {
   "cell_type": "code",
   "execution_count": 60,
   "id": "dfaa6c9f",
   "metadata": {},
   "outputs": [
    {
     "name": "stdout",
     "output_type": "stream",
     "text": [
      "2.0\n"
     ]
    }
   ],
   "source": [
    "#From the confusion matric of training on first class\n",
    "TP3=cm4[1][1]\n",
    "FPFN3=cm4[0][1]+cm4[1][0]\n",
    "#FPFN denotes the denominator of the accuracy formula\n",
    "Accuracy4=TP3/FPFN3\n",
    "print(Accuracy4)"
   ]
  },
  {
   "cell_type": "code",
   "execution_count": 61,
   "id": "56c15dab",
   "metadata": {},
   "outputs": [
    {
     "name": "stdout",
     "output_type": "stream",
     "text": [
      "0.5563380281690141\n"
     ]
    }
   ],
   "source": [
    "#From the confusion matric of training on first class\n",
    "TP4=cm5[1][1]\n",
    "FPFN4=cm5[0][1]+cm5[1][0]\n",
    "#FPFN denotes the denominator of the accuracy formula\n",
    "Accuracy5=TP4/FPFN4\n",
    "print(Accuracy5)"
   ]
  },
  {
   "cell_type": "code",
   "execution_count": 62,
   "id": "1cd25992",
   "metadata": {},
   "outputs": [
    {
     "name": "stdout",
     "output_type": "stream",
     "text": [
      "0.7941176470588235\n"
     ]
    }
   ],
   "source": [
    "#From the confusion matric of training on first class\n",
    "TP5=cm6[1][1]\n",
    "FPFN5=cm6[0][1]+cm6[1][0]\n",
    "#FPFN denotes the denominator of the accuracy formula\n",
    "Accuracy6=TP5/FPFN5\n",
    "print(Accuracy6)"
   ]
  },
  {
   "cell_type": "code",
   "execution_count": 65,
   "id": "5716d75b",
   "metadata": {},
   "outputs": [
    {
     "name": "stdout",
     "output_type": "stream",
     "text": [
      "[[715  22]\n",
      " [ 56 114]]\n",
      "1.4615384615384615\n"
     ]
    }
   ],
   "source": [
    "svm=SVC(kernel='rbf',random_state=1,C=2)\n",
    "svm.fit(X_train,y_train0)\n",
    "y_pred6=svm.predict(X_test)\n",
    "print(confusion_matrix(y_test[0],y_pred6))\n",
    "cm7=confusion_matrix(y_test[0],y_pred6)\n",
    "TP6=cm7[1][1]\n",
    "FPFN6=cm7[0][1]+cm7[1][0]\n",
    "Accuracy7=TP6/FPFN6\n",
    "print(Accuracy7)"
   ]
  },
  {
   "cell_type": "code",
   "execution_count": 67,
   "id": "bc0e33b3",
   "metadata": {},
   "outputs": [
    {
     "name": "stdout",
     "output_type": "stream",
     "text": [
      "[[713  24]\n",
      " [ 53 117]]\n",
      "1.5194805194805194\n"
     ]
    }
   ],
   "source": [
    "clf=SVC(kernel='poly',degree=3,C=2)\n",
    "clf.fit(X_train,y_train0)\n",
    "y_pred7=clf.predict(X_test)\n",
    "print(confusion_matrix(y_test[0],y_pred7))\n",
    "cm8=confusion_matrix(y_test[0],y_pred7)\n",
    "TP7=cm8[1][1]\n",
    "FPFN7=cm8[0][1]+cm8[1][0]\n",
    "Accuracy8=TP7/FPFN7\n",
    "print(Accuracy8)"
   ]
  },
  {
   "cell_type": "code",
   "execution_count": 79,
   "id": "7a974e7c",
   "metadata": {},
   "outputs": [],
   "source": [
    "c=0\n",
    "d=0\n",
    "for i in range(0,len(y_pred7)):\n",
    "    if y_pred7[i]==1 and y_test[0][i]==1:\n",
    "        c+=1\n",
    "    elif y_pred7[i]==1 or y_test[0][i]==1:\n",
    "        d+=1\n",
    "    else:\n",
    "        continue"
   ]
  },
  {
   "cell_type": "code",
   "execution_count": 83,
   "id": "31ffb61e",
   "metadata": {},
   "outputs": [
    {
     "data": {
      "text/plain": [
       "60.30927835051546"
      ]
     },
     "execution_count": 83,
     "metadata": {},
     "output_type": "execute_result"
    }
   ],
   "source": [
    "c/(c+d)*100"
   ]
  },
  {
   "cell_type": "code",
   "execution_count": null,
   "id": "7ada22b8",
   "metadata": {},
   "outputs": [],
   "source": []
  }
 ],
 "metadata": {
  "kernelspec": {
   "display_name": "Python 3 (ipykernel)",
   "language": "python",
   "name": "python3"
  },
  "language_info": {
   "codemirror_mode": {
    "name": "ipython",
    "version": 3
   },
   "file_extension": ".py",
   "mimetype": "text/x-python",
   "name": "python",
   "nbconvert_exporter": "python",
   "pygments_lexer": "ipython3",
   "version": "3.9.7"
  }
 },
 "nbformat": 4,
 "nbformat_minor": 5
}
